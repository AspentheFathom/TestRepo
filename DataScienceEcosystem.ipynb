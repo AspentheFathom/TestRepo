{
 "cells": [
  {
   "cell_type": "markdown",
   "id": "8e603ef2-01c8-44e7-aebf-6e9ea2230f00",
   "metadata": {},
   "source": [
    "# Data Science Tools and Ecosystem"
   ]
  },
  {
   "cell_type": "markdown",
   "id": "2864395b-4789-4033-a587-c785106326ee",
   "metadata": {},
   "source": [
    "In this notebook, Data Science Tools and Ecosystem are summarized."
   ]
  },
  {
   "cell_type": "markdown",
   "id": "7b4723b2-6ffc-457c-9030-d173d9672c80",
   "metadata": {},
   "source": [
    "**Objectives:**\n",
    "* List popular languages for Data Science\n",
    "* List popular libraries for Data Science\n",
    "* Provide benefits of Open Source Libraries\n",
    "* List basic GIT commands"
   ]
  },
  {
   "cell_type": "markdown",
   "id": "20e2b287-26f5-48f3-b1fe-72535078a65e",
   "metadata": {},
   "source": [
    "A few popular languages Data Scientists use are the following\n",
    "1. Python\n",
    "2. R\n",
    "3. Julia\n",
    "4. Java"
   ]
  },
  {
   "cell_type": "markdown",
   "id": "45e598fd-c6dd-4370-951f-2aa8f7ab3fe8",
   "metadata": {},
   "source": [
    "Some commonly used libraries that are used by Data Scientists are:\n",
    "1. Panda\n",
    "2. NymPy\n",
    "3. PyTorch\n",
    "4. Apache Spark"
   ]
  },
  {
   "cell_type": "markdown",
   "id": "8bfc559d-6361-445f-bff0-c8a61a7cfb22",
   "metadata": {},
   "source": [
    "|Data Science Tools|\n",
    "|------------------|\n",
    "|Jupyter Notebook|\n",
    "|Apache Spark|\n",
    "|Apache Hadoop|\n",
    "|Tensorflow| \n"
   ]
  },
  {
   "cell_type": "markdown",
   "id": "a227cb8b-8db4-4de6-8da0-befb8bf52e91",
   "metadata": {},
   "source": [
    "### Examples of evaluating arithmetic expressions in Python"
   ]
  },
  {
   "cell_type": "markdown",
   "id": "166baf8a-935d-4ce6-a2fc-ad2d79ea0584",
   "metadata": {},
   "source": [
    "This is a simple arithmetic expression to multiply then add integers."
   ]
  },
  {
   "cell_type": "code",
   "execution_count": 2,
   "id": "1ac0ef6d-21cb-4f54-a911-a7dad1719aa6",
   "metadata": {
    "tags": []
   },
   "outputs": [
    {
     "data": {
      "text/plain": [
       "17"
      ]
     },
     "execution_count": 2,
     "metadata": {},
     "output_type": "execute_result"
    }
   ],
   "source": [
    "(3*4)+5"
   ]
  },
  {
   "cell_type": "code",
   "execution_count": null,
   "id": "1486dd3e-8d0f-4451-bd3f-de09fa918b07",
   "metadata": {},
   "outputs": [],
   "source": [
    "This will convert 200 minutes to hours by dividing by 60"
   ]
  },
  {
   "cell_type": "code",
   "execution_count": 3,
   "id": "afa64d72-cb71-4ae6-a386-541fbb39144c",
   "metadata": {
    "tags": []
   },
   "outputs": [
    {
     "data": {
      "text/plain": [
       "3.3333333333333335"
      ]
     },
     "execution_count": 3,
     "metadata": {},
     "output_type": "execute_result"
    }
   ],
   "source": [
    "200 / 60 "
   ]
  },
  {
   "cell_type": "markdown",
   "id": "78d51bdc-3cea-4907-b274-068993637e91",
   "metadata": {},
   "source": [
    "## Author \n",
    "Melissa Carrick"
   ]
  }
 ],
 "metadata": {
  "kernelspec": {
   "display_name": "Python",
   "language": "python",
   "name": "conda-env-python-py"
  },
  "language_info": {
   "codemirror_mode": {
    "name": "ipython",
    "version": 3
   },
   "file_extension": ".py",
   "mimetype": "text/x-python",
   "name": "python",
   "nbconvert_exporter": "python",
   "pygments_lexer": "ipython3",
   "version": "3.7.12"
  }
 },
 "nbformat": 4,
 "nbformat_minor": 5
}
